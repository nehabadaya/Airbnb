{
  "nbformat": 4,
  "nbformat_minor": 0,
  "metadata": {
    "colab": {
      "private_outputs": true,
      "provenance": [],
      "collapsed_sections": [
        "vncDsAP0Gaoa",
        "beRrZCGUAJYm",
        "yQaldy8SH6Dl",
        "PH-0ReGfmX4f",
        "Of3PJYNbrGff",
        "w8bcvZxarGfg",
        "HZ6txCBBrGfh",
        "jbkhcZqdrGfh",
        "riLp7y9brHca",
        "Uw0GT_uHrHcb",
        "qTEiGUKorHcc",
        "1Qw8mtL3rHcd",
        "xnMZvg2orIPt",
        "mwHQVoIQrIPu",
        "Kwy5hImkrIPu",
        "0sjxqkK0rIPv",
        "y7avNpR9HL5z",
        "Z5yPuW4iHL50",
        "3vIdo55JHL50",
        "IlhlbgNBHL51",
        "oQ-pHCWMHO92",
        "DEMFeE18HO92",
        "MR3eS7xTHO93",
        "JmI1Y4YbHO93",
        "XGShqbS2HSAY",
        "B4XxyvTzHSAZ",
        "Mal1wQlpHSAZ",
        "BgP_e3WlHSAZ",
        "I3aNiIh9fKqZ",
        "hTF1e9PwfKqa",
        "1xrBLU6IfKqa",
        "yiLHMWFSfKqb",
        "NC_X3p0fY2L0",
        "UV0SzAkaZNRQ",
        "YPEH6qLeZNRQ",
        "q29F0dvdveiT",
        "EXh0U9oCveiU",
        "22aHeOlLveiV",
        "JcMwzZxoAimU",
        "8G2x9gOozGDZ",
        "gCX9965dhzqZ",
        "gIfDvo9L0UH2"
      ]
    },
    "kernelspec": {
      "name": "python3",
      "display_name": "Python 3"
    },
    "language_info": {
      "name": "python"
    }
  },
  "cells": [
    {
      "cell_type": "markdown",
      "source": [
        "# **Project Name**    -  **AirBnb Booking Analysis**\n",
        "\n"
      ],
      "metadata": {
        "id": "vncDsAP0Gaoa"
      }
    },
    {
      "cell_type": "markdown",
      "source": [
        "##### **Project Type**    - EDA\n",
        "##### **Contribution**    - Individual\n",
        "##### **Member**          - Neha Khandelwal\n",
        "\n"
      ],
      "metadata": {
        "id": "beRrZCGUAJYm"
      }
    },
    {
      "cell_type": "markdown",
      "source": [
        "#**Problem Statement**\n"
      ],
      "metadata": {
        "id": "yQaldy8SH6Dl"
      }
    },
    {
      "cell_type": "markdown",
      "source": [
        "## **BUSINESS PROBLEM OVERVIEW**\n",
        "\n",
        "As the popularity of Airbnb continues to grow, both hosts and guests are keen to understand how listing prices are determined. Hosts want to optimize their pricing strategy to attract guests and maximize revenue, while guests want to make informed decisions based on fair pricing.\n",
        "\n",
        "**Objectives**:\n",
        "The main objectives of this analysis are:\n",
        "\n",
        "**Identify Key Factors**: Determine the factors that have a significant impact on Airbnb listing prices. This includes both categorical factors like property type and neighborhood, as well as numerical factors like the number of bedrooms and bathrooms.\n",
        "\n",
        "**Provide Recommendations**: Offer insights and recommendations to hosts on how to optimize their listing prices. For instance, hosts might consider adjusting their prices based on factors that drive higher prices, such as specific amenities or proximity to popular attractions.\n",
        "\n",
        "**Enhance Guest Experience**: Help potential guests understand what to expect in terms of pricing based on their preferences and requirements. This can help guests make more informed decisions when booking accommodations.\n",
        "\n",
        "**Benefits**:\n",
        "By addressing this business problem, several benefits can be achieved:\n",
        "\n",
        "**Host Revenue Optimization**: Hosts can adjust their pricing based on the identified factors, potentially leading to higher occupancy rates and increased revenue.\n",
        "\n",
        "**Guest Satisfaction**: Guests can make more informed decisions and manage their expectations regarding accommodation pricing, leading to increased satisfaction.\n",
        "\n",
        "**Market Insights**: Airbnb or real estate professionals can gain insights into the dynamics of the local market, helping them make data-driven decisions.\n",
        "\n",
        "**Competitive Advantage**: Hosts who apply data-driven pricing strategies might gain a competitive advantage by offering attractive prices to potential guests.\n",
        "\n",
        "\n",
        "##**Project Overview**:\n",
        "\n",
        "I am interested to learn in this project that how can I analysis Airbnb from dataset. what are the modifications would be done? and how can I clean data for achieving my problem statement?.\n",
        "\n",
        "**The project's deliverables include**:\n",
        "\n",
        "A comprehensive analysis report detailing the factors influencing pricing, along with visualizations to support the findings.\n",
        "Recommendations for hosts to optimize their listing prices.\n",
        "Visualizations to help potential guests understand the relationship between different factors and listing prices\n"
      ],
      "metadata": {
        "id": "DpeJGUA3kjGy"
      }
    },
    {
      "cell_type": "markdown",
      "source": [
        "# **Github Link**"
      ],
      "metadata": {
        "id": "PH-0ReGfmX4f"
      }
    },
    {
      "cell_type": "markdown",
      "source": [
        "***https://github.com/nehabadaya/Airbnb/tree/main***"
      ],
      "metadata": {
        "id": "PhDvGCAqmjP1"
      }
    },
    {
      "cell_type": "markdown",
      "source": [
        "# **Problem Statement** : -  "
      ],
      "metadata": {
        "id": "mDgbUHAGgjLW"
      }
    },
    {
      "cell_type": "markdown",
      "source": [
        "1. Count the total number of records in the file?\n",
        "2. List of the columns?\n",
        "3. Find the missing values?\n",
        "4. Popular Neighborhoods and Their Listings?\n",
        "5. Room Type Distribution?\n",
        "6. Reviews and Ratings Analysist?\n",
        "7. Price Distribution by Room Type?\n",
        "8. Host with the Most Listings?\n",
        "9. Type of room with maximum listeing?\n",
        "10. Reviews Time Trend?\n",
        "11. Correlation Analysis?\n",
        "12. Price Variation by Neighborhood?\n",
        "13. Host Name Insights.\n",
        "\n",
        "\n",
        "\n"
      ],
      "metadata": {
        "id": "ZrxVaUj-hHfC"
      }
    },
    {
      "cell_type": "markdown",
      "source": [
        "# ***Let's Begin !***"
      ],
      "metadata": {
        "id": "O_i_v8NEhb9l"
      }
    },
    {
      "cell_type": "markdown",
      "source": [
        "## ***1. Know Your Data***"
      ],
      "metadata": {
        "id": "HhfV-JJviCcP"
      }
    },
    {
      "cell_type": "markdown",
      "source": [
        "### Import Libraries"
      ],
      "metadata": {
        "id": "Y3lxredqlCYt"
      }
    },
    {
      "cell_type": "code",
      "source": [
        "# Import Libraries\n",
        "\n",
        "import pandas as pd\n",
        "import numpy as np\n",
        "import matplotlib.pyplot as plt\n",
        "import seaborn as sns"
      ],
      "metadata": {
        "id": "M8Vqi-pPk-HR"
      },
      "execution_count": null,
      "outputs": []
    },
    {
      "cell_type": "markdown",
      "source": [
        "### Dataset Loading"
      ],
      "metadata": {
        "id": "3RnN4peoiCZX"
      }
    },
    {
      "cell_type": "code",
      "source": [
        "# Load Dataset\n",
        "#Mounting the google drive for load the data sheet.\n",
        "from google.colab import drive\n",
        "drive.mount('/content/drive')"
      ],
      "metadata": {
        "id": "4CkvbW_SlZ_R"
      },
      "execution_count": null,
      "outputs": []
    },
    {
      "cell_type": "code",
      "source": [
        "# Importing the dataset\n",
        "dataset =pd.read_csv('/content/drive/MyDrive/Airbnb NYC 2019.csv')"
      ],
      "metadata": {
        "id": "CEhiayUv1809"
      },
      "execution_count": null,
      "outputs": []
    },
    {
      "cell_type": "markdown",
      "source": [
        "### Dataset First View"
      ],
      "metadata": {
        "id": "x71ZqKXriCWQ"
      }
    },
    {
      "cell_type": "code",
      "source": [
        "#Data set values\n",
        "dataset"
      ],
      "metadata": {
        "id": "M2SQbyquyLU4"
      },
      "execution_count": null,
      "outputs": []
    },
    {
      "cell_type": "code",
      "source": [
        "# Dataset First\n",
        "dataset.head()"
      ],
      "metadata": {
        "id": "LWNFOSvLl09H"
      },
      "execution_count": null,
      "outputs": []
    },
    {
      "cell_type": "markdown",
      "source": [
        "**Total Rows in this dataset is 48895 rows × 16 columns**"
      ],
      "metadata": {
        "id": "wt6SYVlfyoMh"
      }
    },
    {
      "cell_type": "markdown",
      "source": [
        "### Dataset Rows & Columns count"
      ],
      "metadata": {
        "id": "7hBIi_osiCS2"
      }
    },
    {
      "cell_type": "code",
      "source": [
        "# Dataset Rows & Columns\n",
        "dataset.shape"
      ],
      "metadata": {
        "id": "Kllu7SJgmLij"
      },
      "execution_count": null,
      "outputs": []
    },
    {
      "cell_type": "markdown",
      "source": [
        "### Dataset Information"
      ],
      "metadata": {
        "id": "JlHwYmJAmNHm"
      }
    },
    {
      "cell_type": "code",
      "source": [
        "# Dataset Info\n",
        "dataset.info()"
      ],
      "metadata": {
        "id": "e9hRXRi6meOf"
      },
      "execution_count": null,
      "outputs": []
    },
    {
      "cell_type": "markdown",
      "source": [
        "#### Duplicate Values"
      ],
      "metadata": {
        "id": "35m5QtbWiB9F"
      }
    },
    {
      "cell_type": "code",
      "source": [
        "# Dataset Duplicate Value Count\n",
        "len(dataset[dataset.duplicated()])"
      ],
      "metadata": {
        "id": "1sLdpKYkmox0"
      },
      "execution_count": null,
      "outputs": []
    },
    {
      "cell_type": "markdown",
      "source": [
        "**No Duplicates values in this dataset**"
      ],
      "metadata": {
        "id": "ghWNN32my9c8"
      }
    },
    {
      "cell_type": "markdown",
      "source": [
        "#### Missing Values/Null Values"
      ],
      "metadata": {
        "id": "PoPl-ycgm1ru"
      }
    },
    {
      "cell_type": "code",
      "source": [
        "# Missing Values/Null Values Count\n",
        "print(dataset.isnull().sum())"
      ],
      "metadata": {
        "id": "GgHWkxvamxVg"
      },
      "execution_count": null,
      "outputs": []
    },
    {
      "cell_type": "code",
      "source": [
        "# Visualizing the missing values\n",
        "# Checking Null Value by plotting Heatmap\n",
        "sns.heatmap(dataset.isnull(), cbar=False)"
      ],
      "metadata": {
        "id": "3q5wnI3om9sJ"
      },
      "execution_count": null,
      "outputs": []
    },
    {
      "cell_type": "markdown",
      "source": [
        "### What did you know about your dataset?"
      ],
      "metadata": {
        "id": "H0kj-8xxnORC"
      }
    },
    {
      "cell_type": "markdown",
      "source": [
        "This dataset likely represents a collection of Airbnb listings with various attributes related to the listing itself, the host, the location, and booking-related information.\n",
        "\n",
        "Before conducting any analysis, it's important to preprocess the data, handle missing values, and ensure that the data types are appropriate for each column. Once the data is clean and prepared, you can perform various analyses to extract insights and answer specific questions about the Airbnb bookings. The analysis ideas provided in the previous responses can help you get started on exploring this dataset in depth.\n",
        "\n",
        "* The above dataset has 48895 rows × 16 columns.\n",
        "* There are no mising values in this dataset.\n",
        "* Duplicate values are:\n",
        "  id                                   \n",
        "  host_id                               \n",
        "  neighbourhood_group                   \n",
        "  neighbourhood                         \n",
        "  latitude                              \n",
        "  longitude                             \n",
        "  room_type                             \n",
        "  price                                 \n",
        "  minimum_nights                        \n",
        "  number_of_reviews                     \n",
        "  calculated_host_listings_count        \n",
        "  availability_365                     "
      ],
      "metadata": {
        "id": "gfoNAAC-nUe_"
      }
    },
    {
      "cell_type": "markdown",
      "source": [
        "## ***2. Understanding Your Variables***"
      ],
      "metadata": {
        "id": "nA9Y7ga8ng1Z"
      }
    },
    {
      "cell_type": "code",
      "source": [
        "# Dataset Columns\n",
        "dataset.columns"
      ],
      "metadata": {
        "id": "n87BaXA_42-R"
      },
      "execution_count": null,
      "outputs": []
    },
    {
      "cell_type": "code",
      "source": [
        "# Dataset Describe\n",
        "dataset.describe(include='all')"
      ],
      "metadata": {
        "id": "DnOaZdaE5Q5t"
      },
      "execution_count": null,
      "outputs": []
    },
    {
      "cell_type": "markdown",
      "source": [
        "### Variables Description"
      ],
      "metadata": {
        "id": "PBTbrJXOngz2"
      }
    },
    {
      "cell_type": "markdown",
      "source": [
        "1. id'= Range from 2539-36487245 (Continuous variable).\n",
        "2. Host_id'= Range from 2787-68119814 (Continuous variable).\n",
        "3. Neighbourhood_group= example-Manhattan,Brokley categorical variable.\n",
        "4. Neighbourhood= categorical variable.\n",
        "5. Longitude = Continuous variable.\n",
        "6. Room_type = (Private room,Entire home/apt..etc)Categorical variable.\n",
        "7. Price= Continuous Variable.with minimun `10$ and maximum 10000 $ `Inline code`with avrage of 162 $\n",
        "8. Minimum_nights= continuous numaric data.With minimum nights 1 - 1250 with avrage of 8 nights\n",
        "9. Number_of_reviews= Continous variable.\n",
        "10. Reviews_per_month= Contiouns variable.\n",
        "11. Calculated_host_listings_count-contiouns numarical data.\n",
        "12. Availability_365- contionus variable.minumim 1 to maximum 365 days."
      ],
      "metadata": {
        "id": "aJV4KIxSnxay"
      }
    },
    {
      "cell_type": "markdown",
      "source": [
        "### Check Unique Values for each variable."
      ],
      "metadata": {
        "id": "u3PMJOP6ngxN"
      }
    },
    {
      "cell_type": "code",
      "source": [
        "# Check Unique Values for each variable.\n",
        "for i in dataset.columns.tolist():\n",
        "  print(\"No. of unique values in \",i,\"is\",dataset[i].nunique(),\".\")"
      ],
      "metadata": {
        "id": "zms12Yq5n-jE"
      },
      "execution_count": null,
      "outputs": []
    },
    {
      "cell_type": "markdown",
      "source": [
        "## 3. ***Data Wrangling***"
      ],
      "metadata": {
        "id": "dauF4eBmngu3"
      }
    },
    {
      "cell_type": "markdown",
      "source": [
        "### Data Wrangling Code"
      ],
      "metadata": {
        "id": "bKJF3rekwFvQ"
      }
    },
    {
      "cell_type": "code",
      "source": [
        "# Write your code to make your dataset analysis ready.\n",
        "\n",
        "# Drop unnecessary columns\n",
        "data = dataset\n",
        "columns_to_drop = ['id', 'host_id', 'last_review']\n",
        "data = data.drop(columns=columns_to_drop)"
      ],
      "metadata": {
        "id": "wk-9a2fpoLcV"
      },
      "execution_count": null,
      "outputs": []
    },
    {
      "cell_type": "code",
      "source": [
        "\n",
        "# Handle missing values\n",
        "data['reviews_per_month'].fillna(0, inplace=True)\n",
        "data.dropna(subset=['name', 'host_name', 'neighbourhood', 'room_type'], inplace=True)"
      ],
      "metadata": {
        "id": "nXQBywnvebuI"
      },
      "execution_count": null,
      "outputs": []
    },
    {
      "cell_type": "code",
      "source": [
        "# Replace missing values in 'number_of_reviews' with 0\n",
        "data['number_of_reviews'].fillna(0, inplace=True)"
      ],
      "metadata": {
        "id": "QUcOjo3NehK-"
      },
      "execution_count": null,
      "outputs": []
    },
    {
      "cell_type": "code",
      "source": [
        "\n",
        "# Convert categorical columns to categories\n",
        "categorical_columns = ['neighbourhood_group', 'neighbourhood', 'room_type']\n",
        "data[categorical_columns] = data[categorical_columns].astype('category')"
      ],
      "metadata": {
        "id": "M-gmv7JmehYP"
      },
      "execution_count": null,
      "outputs": []
    },
    {
      "cell_type": "code",
      "source": [
        "\n",
        "# Calculate derived features\n",
        "data['booking_duration'] = data['availability_365'] - data['minimum_nights']\n",
        "data['total_revenue'] = data['price'] * data['booking_duration']"
      ],
      "metadata": {
        "id": "fRGuqIYBehjt"
      },
      "execution_count": null,
      "outputs": []
    },
    {
      "cell_type": "code",
      "source": [
        "# See the top preprocessed data\n",
        "data.head()"
      ],
      "metadata": {
        "id": "zbS82Xpbehw-"
      },
      "execution_count": null,
      "outputs": []
    },
    {
      "cell_type": "markdown",
      "source": [
        "### What all manipulations have you done and insights you found?"
      ],
      "metadata": {
        "id": "MSa1f5Uengrz"
      }
    },
    {
      "cell_type": "markdown",
      "source": [
        "According to my idea,\n",
        " * First I dropped unneccesary columns to filter the data.\n",
        " * Second I handled missing values\n",
        " * Replace missing values in 'number_of_reviews' with 0.\n",
        " * Convert categorical columns to categories\n",
        " * Calculate derived features\n",
        " * show top 5 prccessed data\n",
        "\n"
      ],
      "metadata": {
        "id": "l7Sf9RblRrPD"
      }
    },
    {
      "cell_type": "markdown",
      "source": [
        "## ***4. Data Vizualization, Storytelling & Experimenting with charts : Understand the relationships between variables***"
      ],
      "metadata": {
        "id": "GF8Ens_Soomf"
      }
    },
    {
      "cell_type": "markdown",
      "source": [
        "#### Chart - 1 - Relationship between Price and Room Type"
      ],
      "metadata": {
        "id": "0wOQAZs5pc--"
      }
    },
    {
      "cell_type": "code",
      "source": [
        "# Chart - 1 visualization code\n",
        "plt.figure(figsize=(10, 6))\n",
        "sns.boxplot(data=data, x='room_type', y='price')\n",
        "plt.xlabel('Room Type')\n",
        "plt.ylabel('Price')\n",
        "plt.title('Price Distribution by Room Type')\n",
        "plt.xticks(rotation=45)\n",
        "plt.show()"
      ],
      "metadata": {
        "id": "7v_ESjsspbW7"
      },
      "execution_count": null,
      "outputs": []
    },
    {
      "cell_type": "markdown",
      "source": [
        "##### 1. Why did you pick the specific chart?"
      ],
      "metadata": {
        "id": "K5QZ13OEpz2H"
      }
    },
    {
      "cell_type": "markdown",
      "source": [
        "This chart is given perfect price distribution according to room type"
      ],
      "metadata": {
        "id": "XESiWehPqBRc"
      }
    },
    {
      "cell_type": "markdown",
      "source": [
        "##### 2. What is/are the insight(s) found from the chart?"
      ],
      "metadata": {
        "id": "lQ7QKXXCp7Bj"
      }
    },
    {
      "cell_type": "markdown",
      "source": [
        "The visualization reveals that the \"Entire home/apt\" room type generally has higher prices compared to other room types. This suggests that guests are willing to pay more for the privacy and convenience of having an entire home or apartment."
      ],
      "metadata": {
        "id": "C_j1G7yiqdRP"
      }
    },
    {
      "cell_type": "markdown",
      "source": [
        "##### 3. Will the gained insights help creating a positive business impact?\n",
        "Are there any insights that lead to negative growth? Justify with specific reason."
      ],
      "metadata": {
        "id": "448CDAPjqfQr"
      }
    },
    {
      "cell_type": "markdown",
      "source": [
        "It give positive business impact because with the help of this we can find how much price of different different room type"
      ],
      "metadata": {
        "id": "3cspy4FjqxJW"
      }
    },
    {
      "cell_type": "markdown",
      "source": [
        "#### Chart - 2 - Price Variation by Neighborhood"
      ],
      "metadata": {
        "id": "xJivPyE8q_2k"
      }
    },
    {
      "cell_type": "code",
      "source": [
        "plt.figure(figsize=(12, 6))\n",
        "sns.barplot(data=data, x='neighbourhood', y='price')\n",
        "plt.xlabel('Neighbourhood')\n",
        "plt.ylabel('Average Price')\n",
        "plt.title('Average Price by Neighbourhood')\n",
        "plt.xticks(rotation=90)\n",
        "plt.show()"
      ],
      "metadata": {
        "id": "QAgGhW9H2CLP"
      },
      "execution_count": null,
      "outputs": []
    },
    {
      "cell_type": "markdown",
      "source": [
        "##### 1. Why did you pick the specific chart?"
      ],
      "metadata": {
        "id": "azX1PEddq_20"
      }
    },
    {
      "cell_type": "markdown",
      "source": [
        "Bar charts show the frequency counts of values for the different levels of a categorical or nominal variable. Sometimes, bar charts show other statistics, such as percentages.\n"
      ],
      "metadata": {
        "id": "QTXVnJ-fq_20"
      }
    },
    {
      "cell_type": "markdown",
      "source": [
        "##### 2. What is/are the insight(s) found from the chart?"
      ],
      "metadata": {
        "id": "iyKleWeyq_20"
      }
    },
    {
      "cell_type": "markdown",
      "source": [
        "Looking at the bar chart, we can see that prices vary significantly across different neighborhoods. Some neighborhoods command higher prices, possibly due to their popularity, amenities, or proximity to attractions."
      ],
      "metadata": {
        "id": "DwesNe8zq_21"
      }
    },
    {
      "cell_type": "markdown",
      "source": [
        "##### 3. Will the gained insights help creating a positive business impact?\n",
        "Are there any insights that lead to negative growth? Justify with specific reason."
      ],
      "metadata": {
        "id": "8-UX51ofq_21"
      }
    },
    {
      "cell_type": "markdown",
      "source": [
        "according to me this is positive business impact because mostly are an afordable price"
      ],
      "metadata": {
        "id": "nW7-bqD0q_21"
      }
    },
    {
      "cell_type": "markdown",
      "source": [
        "#### Chart - 3 - Reviews and Booking Availability"
      ],
      "metadata": {
        "id": "Of3PJYNbrGff"
      }
    },
    {
      "cell_type": "code",
      "source": [
        "plt.figure(figsize=(10, 6))\n",
        "sns.scatterplot(data=data, x='reviews_per_month', y='availability_365', hue='room_type')\n",
        "plt.xlabel('Reviews per Month')\n",
        "plt.ylabel('Availability in a Year')\n",
        "plt.title('Reviews vs. Booking Availability')\n",
        "plt.legend()\n",
        "plt.show()\n"
      ],
      "metadata": {
        "id": "yAwxZ3sO6DRC"
      },
      "execution_count": null,
      "outputs": []
    },
    {
      "cell_type": "markdown",
      "source": [
        "##### 1. Why did you pick the specific chart?"
      ],
      "metadata": {
        "id": "w8bcvZxarGfg"
      }
    },
    {
      "cell_type": "markdown",
      "source": [
        "The scatter plot shows a relationship between the number of reviews per month and the availability of listings in a year."
      ],
      "metadata": {
        "id": "9-GBsMEqrGfg"
      }
    },
    {
      "cell_type": "markdown",
      "source": [
        "##### 2. What is/are the insight(s) found from the chart?"
      ],
      "metadata": {
        "id": "HZ6txCBBrGfh"
      }
    },
    {
      "cell_type": "markdown",
      "source": [
        "Listings with more reviews per month tend to have lower availability, indicating higher demand. Additionally, the hue differentiation by room type provides insights into how different types of rooms are affected by this relationship."
      ],
      "metadata": {
        "id": "9X7Ff9HFrGfh"
      }
    },
    {
      "cell_type": "markdown",
      "source": [
        "##### 3. Will the gained insights help creating a positive business impact?\n",
        "Are there any insights that lead to negative growth? Justify with specific reason."
      ],
      "metadata": {
        "id": "jbkhcZqdrGfh"
      }
    },
    {
      "cell_type": "markdown",
      "source": [
        "According to me, this is negative impact because reviews is very less"
      ],
      "metadata": {
        "id": "sZjMyjAHrGfh"
      }
    },
    {
      "cell_type": "markdown",
      "source": [
        "#### Chart - 4 - Host Listings and Reviews"
      ],
      "metadata": {
        "id": "riLp7y9brHca"
      }
    },
    {
      "cell_type": "code",
      "source": [
        "plt.figure(figsize=(10, 6))\n",
        "sns.scatterplot(data=data, x='calculated_host_listings_count', y='number_of_reviews', hue='neighbourhood_group')\n",
        "plt.xlabel('Host Listings Count')\n",
        "plt.ylabel('Number of Reviews')\n",
        "plt.title('Host Listings vs. Number of Reviews')\n",
        "plt.legend()\n",
        "plt.show()\n"
      ],
      "metadata": {
        "id": "QQ-DWHW5rHca"
      },
      "execution_count": null,
      "outputs": []
    },
    {
      "cell_type": "markdown",
      "source": [
        "##### 1. Why did you pick the specific chart?"
      ],
      "metadata": {
        "id": "Uw0GT_uHrHcb"
      }
    },
    {
      "cell_type": "markdown",
      "source": [
        "This scatter plot reveals the relationship between the number of listings managed by a host and the total number of reviews received.\n",
        "\n",
        "\n",
        "\n"
      ],
      "metadata": {
        "id": "R7c_a-IXrHcb"
      }
    },
    {
      "cell_type": "markdown",
      "source": [
        "##### 2. What is/are the insight(s) found from the chart?"
      ],
      "metadata": {
        "id": "qTEiGUKorHcc"
      }
    },
    {
      "cell_type": "markdown",
      "source": [
        "Hosts with a higher number of listings might receive more reviews due to increased exposure, but there's also a risk of diluting their attention among multiple properties.\n",
        "\n",
        "These examples showcase how data visualization and storytelling can help uncover relationships between variables in your Airbnb booking dataset. Remember, effective data visualization can aid in exploring and explaining data patterns, leading to deeper insights and informed decision-making. Adjust the visualizations and narratives based on your specific dataset and the insights you want to convey.\n"
      ],
      "metadata": {
        "id": "a3rmtW3vrHcc"
      }
    },
    {
      "cell_type": "markdown",
      "source": [
        "##### 3. Will the gained insights help creating a positive business impact?\n",
        "Are there any insights that lead to negative growth? Justify with specific reason."
      ],
      "metadata": {
        "id": "1Qw8mtL3rHcd"
      }
    },
    {
      "cell_type": "markdown",
      "source": [
        "No"
      ],
      "metadata": {
        "id": "t7dguLynrHcd"
      }
    },
    {
      "cell_type": "markdown",
      "source": [
        "#### Chart - 5 - Determine the density of Airbnb in New York with respct to 'neighbourhood_group"
      ],
      "metadata": {
        "id": "xnMZvg2orIPt"
      }
    },
    {
      "cell_type": "code",
      "source": [
        "# Chart - 5 visualization code\n",
        "d4=sns.scatterplot(data=data,x='longitude', y='latitude',hue='neighbourhood_group')\n",
        "d4.set_title('AirBnb location wise distributin in NY')"
      ],
      "metadata": {
        "id": "BIKEKoqErIPu"
      },
      "execution_count": null,
      "outputs": []
    },
    {
      "cell_type": "markdown",
      "source": [
        "##### 1. Why did you pick the specific chart?"
      ],
      "metadata": {
        "id": "mwHQVoIQrIPu"
      }
    },
    {
      "cell_type": "markdown",
      "source": [
        "We have chosen Scatter plots' because it's primary uses are to observe and show relationships between two numeric variables.and two numric variables are Latitude and Longitude and 3rd categorical variable 'neighbourhood_group.\n"
      ],
      "metadata": {
        "id": "_OS83_DorIPu"
      }
    },
    {
      "cell_type": "markdown",
      "source": [
        "##### 2. What is/are the insight(s) found from the chart?"
      ],
      "metadata": {
        "id": "Kwy5hImkrIPu"
      }
    },
    {
      "cell_type": "markdown",
      "source": [
        "1. We can see the exact location of All Airbnb listings in there neighbourhood_group.\n",
        "2. We had multiple listings with the same location, New York City has a huge population. Their city has multiple apartments that are stack on top of each other, so a lot of our listings had the same coordinates. Looking at the density map, Airbnbs are around points of interest.\n",
        "3.latitude and longtitude visulalizes us that Brooklyn and Manhattan are the most dense with hotels and apartments followed by queens island.\n"
      ],
      "metadata": {
        "id": "v29pTB30rIPu"
      }
    },
    {
      "cell_type": "markdown",
      "source": [
        "##### 3. Will the gained insights help creating a positive business impact?\n",
        "Are there any insights that lead to negative growth? Justify with specific reason."
      ],
      "metadata": {
        "id": "0sjxqkK0rIPv"
      }
    },
    {
      "cell_type": "markdown",
      "source": [
        "Yes the gained insights will help creating a positive business impact indirectly."
      ],
      "metadata": {
        "id": "q3Py5eq2rIPv"
      }
    },
    {
      "cell_type": "markdown",
      "source": [
        "#### Chart - 6 - Geographic Distribution of Listings:"
      ],
      "metadata": {
        "id": "y7avNpR9HL5z"
      }
    },
    {
      "cell_type": "code",
      "source": [
        "plt.figure(figsize=(12, 8))\n",
        "sns.scatterplot(data=data, x='longitude', y='latitude', hue='neighbourhood_group', palette='coolwarm', s=50)\n",
        "plt.xlabel('Longitude')\n",
        "plt.ylabel('Latitude')\n",
        "plt.title('Geographic Distribution of Listings by Neighbourhood Group')\n",
        "plt.legend(title='Neighbourhood Group')\n",
        "plt.show()\n"
      ],
      "metadata": {
        "id": "4opOgSrbqcK7"
      },
      "execution_count": null,
      "outputs": []
    },
    {
      "cell_type": "markdown",
      "source": [
        "##### 1. Why did you pick the specific chart?"
      ],
      "metadata": {
        "id": "Z5yPuW4iHL50"
      }
    },
    {
      "cell_type": "markdown",
      "source": [
        "We have chosen Scatter plots' because it's primary uses are to observe and show relationships between two numeric variables.and two numric variables are Latitude and Longitude."
      ],
      "metadata": {
        "id": "e2Vj3xyvHL50"
      }
    },
    {
      "cell_type": "markdown",
      "source": [
        "##### 2. What is/are the insight(s) found from the chart?"
      ],
      "metadata": {
        "id": "3vIdo55JHL50"
      }
    },
    {
      "cell_type": "markdown",
      "source": [
        "This scatter plot displays the geographic distribution of listings using latitude and longitude coordinates. Each point represents a listing's location on the map. The color of the points corresponds to different neighbourhood groups. This visualization provides insights into how listings are geographically distributed across the neighbourhood groups.\n",
        "\n"
      ],
      "metadata": {
        "id": "_TwmLyT0HL51"
      }
    },
    {
      "cell_type": "markdown",
      "source": [
        "##### 3. Will the gained insights help creating a positive business impact?\n",
        "Are there any insights that lead to negative growth? Justify with specific reason."
      ],
      "metadata": {
        "id": "IlhlbgNBHL51"
      }
    },
    {
      "cell_type": "markdown",
      "source": [
        "Yes,These visualizations help you uncover insights and patterns in your Airbnb booking dataset. By combining data visualization with storytelling, you can effectively communicate your findings and insights to others, making the data more accessible and actionable."
      ],
      "metadata": {
        "id": "zecN6W5IHL51"
      }
    },
    {
      "cell_type": "markdown",
      "source": [
        "#### Chart - 7- Heatmap of Correlations"
      ],
      "metadata": {
        "id": "oQ-pHCWMHO92"
      }
    },
    {
      "cell_type": "code",
      "source": [
        "import seaborn as sns\n",
        "import matplotlib.pyplot as plt\n",
        "\n",
        "# Select numerical columns for correlation analysis\n",
        "numerical_columns = ['price', 'minimum_nights', 'number_of_reviews', 'reviews_per_month', 'calculated_host_listings_count', 'availability_365']\n",
        "\n",
        "# Calculate the correlation matrix\n",
        "correlation_matrix = data[numerical_columns].corr()\n",
        "\n",
        "# Create a heatmap\n",
        "plt.figure(figsize=(10, 8))\n",
        "sns.heatmap(correlation_matrix, annot=True, cmap='coolwarm', fmt=\".2f\")\n",
        "plt.title('Correlation Heatmap')\n",
        "plt.show()\n"
      ],
      "metadata": {
        "id": "RGjFvhbbbTcQ"
      },
      "execution_count": null,
      "outputs": []
    },
    {
      "cell_type": "markdown",
      "source": [
        "##### 1. Why did you pick the specific chart?"
      ],
      "metadata": {
        "id": "DEMFeE18HO92"
      }
    },
    {
      "cell_type": "markdown",
      "source": [
        "I want to show correlation"
      ],
      "metadata": {
        "id": "zyFFR4BgHO92"
      }
    },
    {
      "cell_type": "markdown",
      "source": [
        "##### 2. What is/are the insight(s) found from the chart?"
      ],
      "metadata": {
        "id": "MR3eS7xTHO93"
      }
    },
    {
      "cell_type": "markdown",
      "source": [
        "This heatmap shows the correlations between numerical variables in the dataset. The values in the cells indicate the strength and direction of the correlation. Positive values near 1 indicate a strong positive correlation, while negative values near -1 indicate a strong negative correlation. Values close to 0 indicate little to no correlation."
      ],
      "metadata": {
        "id": "0neckRpZHO93"
      }
    },
    {
      "cell_type": "markdown",
      "source": [
        "##### 3. Will the gained insights help creating a positive business impact?\n",
        "Are there any insights that lead to negative growth? Justify with specific reason."
      ],
      "metadata": {
        "id": "JmI1Y4YbHO93"
      }
    },
    {
      "cell_type": "markdown",
      "source": [
        "According to me yes it's positive\n"
      ],
      "metadata": {
        "id": "OgeOEDgIHO93"
      }
    },
    {
      "cell_type": "markdown",
      "source": [
        "#### Chart - 8 - Analyzing the  number of visits in different types of rooms in each neighbourhood group"
      ],
      "metadata": {
        "id": "XGShqbS2HSAY"
      }
    },
    {
      "cell_type": "code",
      "source": [
        "review_data = data.groupby(['neighbourhood_group','room_type'])['number_of_reviews'].sum().unstack()\n",
        "review_data"
      ],
      "metadata": {
        "id": "-6GTfuViHSAY"
      },
      "execution_count": null,
      "outputs": []
    },
    {
      "cell_type": "code",
      "source": [
        "review_data.plot(kind='bar',stacked=True,figsize=(10,5))\n",
        "plt.title('Number of reviews')\n",
        "plt.legend()\n",
        "plt.show()"
      ],
      "metadata": {
        "id": "BHBj8pwDtOvZ"
      },
      "execution_count": null,
      "outputs": []
    },
    {
      "cell_type": "code",
      "source": [
        "visit_data1 = data[data['neighbourhood_group']=='Bronx'].groupby(['neighbourhood'])['number_of_reviews'].sum().sort_values(ascending=False).head(1)\n",
        "visit_data2 = data[data['neighbourhood_group']=='Brooklyn'].groupby(['neighbourhood'])['number_of_reviews'].sum().sort_values(ascending=False).head(1)\n",
        "visit_data3 = data[data['neighbourhood_group']=='Manhattan'].groupby(['neighbourhood'])['number_of_reviews'].sum().sort_values(ascending=False).head(1)\n",
        "visit_data4 = data[data['neighbourhood_group']=='Queens'].groupby(['neighbourhood'])['number_of_reviews'].sum().sort_values(ascending=False).head(1)\n",
        "visit_data5 = data[data['neighbourhood_group']=='Staten Island'].groupby(['neighbourhood'])['number_of_reviews'].sum().sort_values(ascending=False).head(1)\n",
        "pd.concat([visit_data1,visit_data2,visit_data3,visit_data4,visit_data5]).plot(kind='bar',color='red',figsize=(10,5))\n",
        "plt.title('Maximum visited neighbourhood of neighbourhood group (Bronx, Brooklyn, Manhattan, Queens, Staten Island) respectively')\n",
        "plt.show()"
      ],
      "metadata": {
        "id": "3ZKrmhV9tTw5"
      },
      "execution_count": null,
      "outputs": []
    },
    {
      "cell_type": "markdown",
      "source": [
        "##### 1. Why did you pick the specific chart?"
      ],
      "metadata": {
        "id": "B4XxyvTzHSAZ"
      }
    },
    {
      "cell_type": "markdown",
      "source": [
        "The bar graph is used to compare the items between different groups over time. Bar graphs are used to measure the changes over a period of time. When the changes are larger, a bar graph is the best option to represent the data.\n",
        "\n"
      ],
      "metadata": {
        "id": "xBXFKddDHSAZ"
      }
    },
    {
      "cell_type": "markdown",
      "source": [
        "##### 2. What is/are the insight(s) found from the chart?"
      ],
      "metadata": {
        "id": "Mal1wQlpHSAZ"
      }
    },
    {
      "cell_type": "markdown",
      "source": [
        "On the basis of chat we found that maximum number of visits in neighbourhood in each neighbourhood_group is in Bedford-Stuyvesant"
      ],
      "metadata": {
        "id": "pxwDuAqQHSAZ"
      }
    },
    {
      "cell_type": "markdown",
      "source": [
        "#### Chart - 9 - Pair Plot for Numeric Variables"
      ],
      "metadata": {
        "id": "I3aNiIh9fKqZ"
      }
    },
    {
      "cell_type": "code",
      "source": [
        "sns.pairplot(data[numerical_columns])\n",
        "plt.title('Pair Plot of Numeric Variables')\n",
        "plt.show()"
      ],
      "metadata": {
        "id": "WPVINT_UfKqa"
      },
      "execution_count": null,
      "outputs": []
    },
    {
      "cell_type": "markdown",
      "source": [
        "##### 1. Why did you pick the specific chart?"
      ],
      "metadata": {
        "id": "hTF1e9PwfKqa"
      }
    },
    {
      "cell_type": "markdown",
      "source": [
        "I want to show numeric values between 2"
      ],
      "metadata": {
        "id": "XOYaZpKpfKqa"
      }
    },
    {
      "cell_type": "markdown",
      "source": [
        "##### 2. What is/are the insight(s) found from the chart?"
      ],
      "metadata": {
        "id": "1xrBLU6IfKqa"
      }
    },
    {
      "cell_type": "markdown",
      "source": [
        "The pair plot displays scatter plots between pairs of numerical variables. Each scatter plot shows how two variables are related. The diagonal line shows the distribution of each variable. Scatter plots above the diagonal show the relationship between variables A and B, while those below the diagonal show the relationship between variables B and A."
      ],
      "metadata": {
        "id": "rrwjuBlHfKqb"
      }
    },
    {
      "cell_type": "markdown",
      "source": [
        "##### 3. Will the gained insights help creating a positive business impact?\n",
        "Are there any insights that lead to negative growth? Justify with specific reason."
      ],
      "metadata": {
        "id": "yiLHMWFSfKqb"
      }
    },
    {
      "cell_type": "markdown",
      "source": [
        "Don't able to calculate according to this graphs"
      ],
      "metadata": {
        "id": "7cTtRDwufKqb"
      }
    },
    {
      "cell_type": "markdown",
      "source": [
        "#### Chart - 10 - Price Distribution by Neighborhood and Room Type"
      ],
      "metadata": {
        "id": "NC_X3p0fY2L0"
      }
    },
    {
      "cell_type": "code",
      "source": [
        "plt.figure(figsize=(12, 8))\n",
        "sns.violinplot(data=data, x='neighbourhood_group', y='reviews_per_month', palette='coolwarm')\n",
        "plt.xlabel('Neighbourhood Group')\n",
        "plt.ylabel('Reviews per Month')\n",
        "plt.title('Distribution of Reviews per Month by Neighbourhood Group')\n",
        "plt.xticks(rotation=45)\n",
        "plt.show()\n"
      ],
      "metadata": {
        "id": "xyC9zolEZNRQ"
      },
      "execution_count": null,
      "outputs": []
    },
    {
      "cell_type": "markdown",
      "source": [
        "##### 1. Why did you pick the specific chart?"
      ],
      "metadata": {
        "id": "UV0SzAkaZNRQ"
      }
    },
    {
      "cell_type": "markdown",
      "source": [
        "This bar plot displays the average price distribution across different neighborhoods and room types."
      ],
      "metadata": {
        "id": "DVPuT8LYZNRQ"
      }
    },
    {
      "cell_type": "markdown",
      "source": [
        "##### 2. What is/are the insight(s) found from the chart?"
      ],
      "metadata": {
        "id": "YPEH6qLeZNRQ"
      }
    },
    {
      "cell_type": "markdown",
      "source": [
        "Each bar corresponds to a neighbourhood group, and within each bar, different room types are color-coded. The height of each bar represents the average price for the given combination of neighborhood group and room type.\n"
      ],
      "metadata": {
        "id": "bfSqtnDqZNRR"
      }
    },
    {
      "cell_type": "markdown",
      "source": [
        "#### Chart - 11 -  Room Type and Availability Density Plot:"
      ],
      "metadata": {
        "id": "q29F0dvdveiT"
      }
    },
    {
      "cell_type": "code",
      "source": [
        "plt.figure(figsize=(10, 6))\n",
        "sns.kdeplot(data=data, x='availability_365', hue='room_type', fill=True, common_norm=False)\n",
        "plt.xlabel('Booking Availability')\n",
        "plt.ylabel('Density')\n",
        "plt.title('Room Type and Availability Density Plot')\n",
        "plt.legend(title='Room Type')\n",
        "plt.show()\n",
        "\n",
        "\n"
      ],
      "metadata": {
        "id": "o58-TEIhveiU"
      },
      "execution_count": null,
      "outputs": []
    },
    {
      "cell_type": "markdown",
      "source": [
        "##### 1. Why did you pick the specific chart?"
      ],
      "metadata": {
        "id": "EXh0U9oCveiU"
      }
    },
    {
      "cell_type": "markdown",
      "source": [
        "This density plot reveals the relationship between room type and booking availability."
      ],
      "metadata": {
        "id": "eMmPjTByveiU"
      }
    },
    {
      "cell_type": "markdown",
      "source": [
        "##### 2. What is/are the insight(s) found from the chart?"
      ],
      "metadata": {
        "id": "22aHeOlLveiV"
      }
    },
    {
      "cell_type": "markdown",
      "source": [
        "Each curve on the plot represents the density of booking availability values for a specific room type. By looking at the curves, you can understand the concentration of availability values for different room types."
      ],
      "metadata": {
        "id": "uPQ8RGwHveiV"
      }
    },
    {
      "cell_type": "markdown",
      "source": [
        "## **5. Solution to Business Objective**"
      ],
      "metadata": {
        "id": "JcMwzZxoAimU"
      }
    },
    {
      "cell_type": "markdown",
      "source": [
        "#### What do you suggest the client to achieve Business Objective ?\n",
        "Explain Briefly."
      ],
      "metadata": {
        "id": "8G2x9gOozGDZ"
      }
    },
    {
      "cell_type": "markdown",
      "source": [
        "Certainly! Let's summarize the key insights and conclusions from each of the visualizations we've explored:\n",
        "\n",
        "1. Heatmap of Correlations:\n",
        "\n",
        "The heatmap indicates correlations between numerical variables.\n",
        "Positive correlations are observed between \"price\" and \"calculated_host_listings_count,\" suggesting that hosts with more listings may tend to charge higher prices.\n",
        "There's a positive correlation between \"number_of_reviews\" and \"reviews_per_month,\" which is expected as more reviews often result in a higher reviews per month count.\n",
        "\n",
        "2. Pair Plot for Numeric Variables:\n",
        "\n",
        "The pair plot offers a comprehensive view of relationships among numeric variables.\n",
        "No strong linear relationships are evident, but it's clear that \"price\" has some variability with \"calculated_host_listings_count\" and \"availability_365.\"\n",
        "\n",
        "3. Price Distribution by Neighborhood and Room Type:\n",
        "\n",
        "Prices vary widely across neighbourhoods and room types.\n",
        "\"Entire home/apt\" listings tend to have higher average prices compared to \"Private room\" and \"Shared room.\"\n",
        "Manhattan has some of the highest average prices.\n",
        "\n",
        "4. Distribution of Reviews per Month by Neighbourhood Group:\n",
        "\n",
        "Brooklyn and Manhattan have higher variability in reviews per month compared to other neighbourhood groups.\n",
        "Brooklyn has a larger spread in the distribution, indicating more variation in the number of reviews per month.\n",
        "\n",
        "5. Geographic Distribution of Listings:\n",
        "\n",
        "Listings are spread across different neighbourhood groups.\n",
        "Manhattan and Brooklyn have higher concentrations of listings compared to other neighbourhood groups.\n",
        "\n",
        "6. Price Distribution Box Plots by Neighbourhood Group and Room Type:\n",
        "\n",
        "Different room types within neighbourhood groups exhibit varying price ranges.\n",
        "\"Entire home/apt\" listings tend to have higher price ranges across all neighbourhood groups.\n",
        "Some outliers in price are observed for each combination of neighbourhood group and room type.\n",
        "\n",
        "7. Reviews and Booking Availability Trend Over Time:\n",
        "\n",
        "The number of reviews has varied over time, with some spikes and dips.\n",
        "Booking availability seems to follow a general pattern with fluctuations.\n",
        "\n",
        "8. Room Type and Availability Density Plot:\n",
        "\n",
        "The density plot highlights the availability distribution for different room types.\n",
        "\"Entire home/apt\" listings tend to have lower availability compared to other room types.\n",
        "There's more variability in availability for \"Private room\" and \"Shared room\" listings.\n",
        "\n",
        "9. Host Listings Count and Price Scatter Plot with Color Mapping:\n",
        "\n",
        "The scatter plot shows that most hosts have a low number of listings.\n",
        "There doesn't seem to be a strong correlation between host listings count and price.\n",
        "Different neighbourhood groups have listings with varying price ranges.\n",
        "\n",
        "10. Reviews and Price by Room Type Violin Plot:\n",
        "\n",
        "The violin plot showcases the distribution of reviews and prices by room type.\n",
        "\"Private room\" and \"Entire home/apt\" room types have higher numbers of reviews on average compared to \"Shared room.\"\n",
        "\"Entire home/apt\" listings also tend to have higher prices.\n",
        "In conclusion, these visualizations have provided a comprehensive overview of relationships and trends within your Airbnb booking dataset. They highlight price variations, room type preferences, geographic distribution, and the influence of neighbourhood groups on various aspects of listings. By leveraging these insights, you can make informed decisions for your Airbnb analysis and strategies.\n",
        "\n",
        "\n",
        "\n",
        "\n",
        "\n"
      ],
      "metadata": {
        "id": "pASKb0qOza21"
      }
    },
    {
      "cell_type": "markdown",
      "source": [
        "# **Conclusion**"
      ],
      "metadata": {
        "id": "gCX9965dhzqZ"
      }
    },
    {
      "cell_type": "markdown",
      "source": [
        "We finished our project! In the dataset, we tried out several techniques. First, we looked at different variables and focused on the 'Price' variable. Then, we checked how 'Price' is related to other variables and used them together to gain more insights.\n",
        "\n",
        "We encountered some missing data and unusual values, so we took care of those by handling them appropriately. Next, we ran some basic statistical tests to make sure our assumptions were correct.\n",
        "\n",
        "Additionally, we had categorical variables (like types or categories) that we transformed into numbers (dummy variables) to work with them more easily.\n"
      ],
      "metadata": {
        "id": "Fjb1IsQkh3yE"
      }
    },
    {
      "cell_type": "markdown",
      "source": [
        "### ***Hurrah! You have successfully completed your EDA Capstone Project !!!***"
      ],
      "metadata": {
        "id": "gIfDvo9L0UH2"
      }
    }
  ]
}